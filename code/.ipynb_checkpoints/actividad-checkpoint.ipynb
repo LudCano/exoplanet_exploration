{
 "cells": [
  {
   "cell_type": "markdown",
   "metadata": {},
   "source": [
    "# Analizando exoplanetas I"
   ]
  },
  {
   "cell_type": "markdown",
   "metadata": {},
   "source": [
    "En esta actividad analizaremos datos exploratorios de los exoplanetas confirmados hasta la fecha. Los datos fueron obtenidos y procesados previamente, por lo que ahora nos dedicaremos a estudiar los parámetros. Los datos originales se encuentran en [NASA Exoplanet Archive](https://exoplanetarchive.ipac.caltech.edu). \n",
    "\n",
    "Primero, veamos la tabla procesada, para _ejecutar_ una celda (de código), puedes usar el botón Play de encima o hacer `Shift + Enter`, esto hará que el código muestre lo que debe hacer, no te preocupes del código en sí."
   ]
  },
  {
   "cell_type": "code",
   "execution_count": null,
   "metadata": {
    "scrolled": true
   },
   "outputs": [],
   "source": [
    "%matplotlib notebook\n",
    "from modulos import * #El código que ejecuta todo por detrás está en este módulo, si te da curiosidad puedes ejecutarlo.\n",
    "show_tab()"
   ]
  },
  {
   "cell_type": "markdown",
   "metadata": {},
   "source": [
    "La tabla parece complicada, en cada fila vemos el nombre de un exoplaneta y cada columna es un parámetro del mismo, originalmente había muchas más pero estas son las relevantes, algunos ejemplos que estudiaremos son:\n",
    " - Método de descubrimiento `discoverymethod`\n",
    " - Periodo orbital `pl_orbper`\n",
    " - Es habitable? Según el catálogo [The habitable exoplanets catalogue](https://phl.upr.edu/projects/habitable-exoplanets-catalog), tendrá un 1 si lo es y un 0 si no.\n",
    "\n",
    "En resumen, usaremos casi todas, y algunas están disponibles para que practiquen por su cuenta.\n",
    "\n",
    "Bien, ahora empecemos con el método de descubrimiento, ya que nos dará una idea del desarrollo de la sub-área de la astronomía que se llama **ciencia de exoplanetas**."
   ]
  },
  {
   "cell_type": "markdown",
   "metadata": {},
   "source": [
    "## 1. Método de descubrimiento"
   ]
  },
  {
   "cell_type": "markdown",
   "metadata": {},
   "source": [
    "_(Para este momento deberían haber recibido algo de información de los métodos de detección más comunes)_\n",
    "\n",
    "Bien, primero veamos el conteo, de todos los exoplanetas ¿cuántos han sido descubiertos por qué método? La celda de abajo nos da un conteo."
   ]
  },
  {
   "cell_type": "code",
   "execution_count": null,
   "metadata": {},
   "outputs": [],
   "source": [
    "show_methods()"
   ]
  },
  {
   "cell_type": "markdown",
   "metadata": {},
   "source": [
    "¿Qué podemos comentar sobre estos métodos? Algunos cuentan con pocos descubrimientos, mientras algunos constituyen la mayoría de nuestra base de datos. ¿Qué complicaciones traen estos métodos? Investiga por tu cuenta alguno de los que tienen pocos exoplanetas, capaz es un método muy nuevo o demasiado ocasional."
   ]
  },
  {
   "cell_type": "markdown",
   "metadata": {},
   "source": [
    "Pero bien, nos enfocaremos en los más populares o más numerosos, entonces agruparemos a los métodos que tengan menos de `m` exoplanetas descubiertos en una categoría llamada `otros`. Pueden cambiar `m` por cualquier número en la celda de abajo y generará una nueva tabla agrupada. Por ejemplo si `m = 100` todos los métodos con menos de 100 exoplanetas se agrupan, pero si `m = 60` tendríamos que `imaging` será tomada en cuenta. "
   ]
  },
  {
   "cell_type": "code",
   "execution_count": null,
   "metadata": {},
   "outputs": [],
   "source": [
    "m = 60\n",
    "t, d_grouped = grouped_methods(m)\n",
    "t"
   ]
  },
  {
   "cell_type": "markdown",
   "metadata": {},
   "source": [
    "Ahora veremos los descubrimientos por año, para esto usaremos un histograma que nos mostrará cuántos descubrimientos en total tendremos por cada año. "
   ]
  },
  {
   "cell_type": "code",
   "execution_count": null,
   "metadata": {},
   "outputs": [],
   "source": [
    "anual = True\n",
    "gen_year_histo(anual)"
   ]
  },
  {
   "cell_type": "markdown",
   "metadata": {},
   "source": [
    "Tenemos un problema, pues la cantidad de barras o separaciones (en Inglés _bins_) no es suficiente, es decir, tenemos una barra que abarca más de un año y no podemos ver cuántos exoplanetas fueron descubiertos por año, esto es originalmente porque para un histograma el número de _bins_ por defecto es 10. Ahora puedes cambiar el parámetro `anual` a `True` que hará que sí tome en cuenta los años.\n",
    "\n",
    "¿Podemos ver la tendencia de cómo fueron descubiertos los exoplanetas? ¿Habrá sucedido algo en específico para ver algunos picos pronunciados? \n",
    "\n",
    "Primero, veamos el mismo gráfico pero con los exoplanetas descubiertos por método. Usaremos un histograma que separa por colores las barras y las coloca una encimas de otras (_stacked histogram_ en Inglés)."
   ]
  },
  {
   "cell_type": "code",
   "execution_count": null,
   "metadata": {},
   "outputs": [],
   "source": [
    "sep_year_histo(d_grouped)"
   ]
  },
  {
   "cell_type": "markdown",
   "metadata": {},
   "source": [
    "Esto podría servir, por lo menos ahora sabemos qué método es el que marcó los picos importantes. Ahora trabajarán y se enfocarán en un solo método a la vez, usaremos los dos con más descubrimientos: Tránsito y Velocidad Radial."
   ]
  },
  {
   "cell_type": "markdown",
   "metadata": {},
   "source": [
    "### 1.1. Único método, histograma por año"
   ]
  },
  {
   "cell_type": "code",
   "execution_count": null,
   "metadata": {},
   "outputs": [],
   "source": [
    "metodo = \"Transit\"\n",
    "\n",
    "fig, ax = year_hist(metodo)\n"
   ]
  },
  {
   "cell_type": "markdown",
   "metadata": {},
   "source": [
    "<div class=\"alert alert-block alert-success\"><b>Añadir eventos (líneas verticales): </b>Podemos usar una línea de código adicional para añadir una línea vertical y un pequeño título, así podremos denotar algo resaltante. POr ejemplo podemos mencionar que el 2014 hubo un nuevo telescopio. La nomenclatura es la siguiente: </div>\n",
    "\n",
    "`add_event(figura, año, \"titulo\")`\n",
    "\n",
    "`figura` es una variable que nos devuelve la función `year_hist`, y la volveremos a pasar a la función añadir evento para que trabaje sobre la misma. La documentación más detallada de la función es la siguiente:"
   ]
  },
  {
   "cell_type": "code",
   "execution_count": null,
   "metadata": {},
   "outputs": [],
   "source": [
    "help(add_event)"
   ]
  },
  {
   "cell_type": "code",
   "execution_count": null,
   "metadata": {},
   "outputs": [],
   "source": [
    "metodo = \"Radial Velocity\"\n",
    "\n",
    "figura = year_hist(metodo)\n",
    "add_event(figura, 2009, \"Lanzamiento Kepler\", alt = 60)\n",
    "# nota que podemos modificar el año donde hacemos la línea, el título, y la altura\n",
    "# incluso si queremos que el texto aparezca a la derecha o izquierda de la líunea."
   ]
  },
  {
   "cell_type": "markdown",
   "metadata": {},
   "source": [
    "<div class=\"alert alert-block alert-warning\"><b>ACTIVIDAD: </b> Usa una tabla de eventos relevantes en la historia del descubrimiento de exoplanetas para añadir algunas líneas y explicar los picos necesarios. </div>\n",
    "\n",
    "Puedes investigar los siguientes eventos (investiga si son relacionados con qué método): \n",
    " - Lanzamiento del telescopio Kepler\n",
    " - La misión K2 (para ambos puntos sobre Kepler pueden leer [esta página](https://exoplanets.nasa.gov/alien-worlds/kepler-timeline/)\n",
    " - Lanzamiento de TESS\n",
    " - Publicación de HARPS\n",
    " - El primer exoplaneta: Pegasi 51b\n",
    " - CHEOPS\n",
    " \n",
    "Puedes copiar el código de la celda de arriba y cambiarle el método."
   ]
  },
  {
   "cell_type": "code",
   "execution_count": null,
   "metadata": {},
   "outputs": [],
   "source": [
    "metodo = \"Transit\"\n",
    "\n",
    "figura = year_hist(metodo)\n",
    "add_event(figura, 2018, \"K2\", alt = 60)\n",
    "# nota que podemos modificar el año donde hacemos la línea, el título, y la altura\n",
    "# incluso si queremos que el texto aparezca a la derecha o izquierda de la líunea."
   ]
  },
  {
   "cell_type": "markdown",
   "metadata": {},
   "source": [
    "## 2. ¿Y los habitables?\n",
    "<img src=\"../figs/meme.png\" alt=\"drawing\" width=\"300\"/>"
   ]
  },
  {
   "cell_type": "markdown",
   "metadata": {},
   "source": [
    "Por ahora no nos enfocaremos en las características propias de los planetas habitables (como su tamaño, masa, etc.), primero vamos a ver cómo se descubrieron (ya que sabemos los métodos) y en esta actividad veremos la distancia, que en sí no es característica propia de un exoplaneta, sino de su órbita. "
   ]
  },
  {
   "cell_type": "code",
   "execution_count": null,
   "metadata": {},
   "outputs": [],
   "source": [
    "sep_year_histo(d_grouped, hwc = True)"
   ]
  },
  {
   "cell_type": "markdown",
   "metadata": {},
   "source": [
    "Vemos que todos se han descubierto con los métodos más comunes, esto se debe a que esencialmente para determinar si un exoplaneta es habitable o no necesitamos saber mucho del mismo, y usualmente los otros métodos no ofrecen información tan directa como uno espera."
   ]
  },
  {
   "cell_type": "code",
   "execution_count": null,
   "metadata": {},
   "outputs": [],
   "source": []
  }
 ],
 "metadata": {
  "kernelspec": {
   "display_name": "Python 3 (ipykernel)",
   "language": "python",
   "name": "python3"
  },
  "language_info": {
   "codemirror_mode": {
    "name": "ipython",
    "version": 3
   },
   "file_extension": ".py",
   "mimetype": "text/x-python",
   "name": "python",
   "nbconvert_exporter": "python",
   "pygments_lexer": "ipython3",
   "version": "3.9.13"
  }
 },
 "nbformat": 4,
 "nbformat_minor": 4
}
