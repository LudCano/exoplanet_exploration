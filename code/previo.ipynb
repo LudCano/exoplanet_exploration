{
 "cells": [
  {
   "cell_type": "markdown",
   "id": "49b38990",
   "metadata": {},
   "source": [
    "# Uso de Jupyter Notebook y Python básico I"
   ]
  },
  {
   "cell_type": "markdown",
   "id": "e91db1d4",
   "metadata": {},
   "source": [
    "Bienvenidos a Jupyter Notebook! Esta plataforma mezcla celdas de texto (como esta) con celdas de código para realizar estos _notebooks_ donde trabajaremos la mayoría de nuestras actividades que utilicen Python.\n",
    "\n",
    "Si es tu primera vez usando un Jupyter Notebook sigue estos pasos para aprender su uso. Si ya conoces Python o esta plataforma entonces puedes darle una mirada rápida para que todos estemos en un mismo lenguaje.\n",
    "\n",
    "Python es un lenguaje de programación relativamente sencillo (por eso su popularidad), para usar el lenguaje puedes hacer una instalación local o usar la plataforma en la nube de tu gusto (Binder o Google Collab).\n",
    "\n",
    "## 1. Jupyter notebook\n",
    "Para ejecutar una _celda_ en jupyter puedes hacer clic en la celda que desees y luego hacer clic en el botón de Run (con un símbolo de play) en la barra superior de herramientas.\n",
    "\n",
    "Si la celda resulta en algo, se mostrará abajo, por ejemplo, ejecuta la celda a continuación que debería mostrar lo que queremos."
   ]
  },
  {
   "cell_type": "code",
   "execution_count": 1,
   "id": "1845b0ae",
   "metadata": {},
   "outputs": [
    {
     "name": "stdout",
     "output_type": "stream",
     "text": [
      "Hola, estoy usando Jupyter\n"
     ]
    }
   ],
   "source": [
    "print(\"Hola, estoy usando Jupyter\")"
   ]
  },
  {
   "cell_type": "markdown",
   "id": "bb7e48ff",
   "metadata": {},
   "source": [
    "Es importante saber que las variables se comparten entre las celdas, entonces si definimos una variable en la celda a continuación, por ejemplo el número 1234"
   ]
  },
  {
   "cell_type": "code",
   "execution_count": 2,
   "id": "184f1e4c",
   "metadata": {},
   "outputs": [],
   "source": [
    "x = 1234"
   ]
  },
  {
   "cell_type": "markdown",
   "id": "69e669a5",
   "metadata": {},
   "source": [
    "Ahora podemos reutilizarla, la podemos imprimir (mostrar en pantalla)."
   ]
  },
  {
   "cell_type": "code",
   "execution_count": 3,
   "id": "f372b253",
   "metadata": {},
   "outputs": [
    {
     "name": "stdout",
     "output_type": "stream",
     "text": [
      "1234\n"
     ]
    }
   ],
   "source": [
    "print(x)"
   ]
  },
  {
   "cell_type": "markdown",
   "id": "d436e115",
   "metadata": {},
   "source": [
    "Eso es lo importante, un jupyter notebook normalmente es ordenado, es decir, el código sigue el orden de las celdas, en algunos casos especiales te puedes saltar ejecutar alguna, pero corres el riesgo de que alguna variable se haya definido ahí y entonces cuando la usemos más abajo no la encontrará y resultará en un error.\n",
    "\n",
    "Algunas cosas extras en Jupyter, puedes añadir una celda usando el botón + en la barra de herramientas, si quieres convertirla a celda de texto usa la lista desplegable y selecciona Markdown para saber más sobre edición en markdown te recomiendo [este artículo](https://www.markdownguide.org/basic-syntax/)."
   ]
  },
  {
   "cell_type": "markdown",
   "id": "cb322322",
   "metadata": {},
   "source": [
    "## 2. Python básico y apurado\n",
    "\n",
    "Bien, ahora que sabemos cómo ejecutar python, aprendamos algo sobre él. Esta pequeña guía es muy incompleta y sólo mencionaré algunas cosas que se usarán en las actividades que vienen.\n",
    "\n",
    "Primero, **comentarios**, si colocamos un numeral (#) antes de un texto, este cuenta como comentario y será ignorado al momento de ejecutar la celda, esto se usa para realizar anotaciones en el código o si queremos que una línea específica no se ejecute."
   ]
  },
  {
   "cell_type": "code",
   "execution_count": 5,
   "id": "d1cdee30",
   "metadata": {},
   "outputs": [],
   "source": [
    "# Esto es un comentario (no hará nada)"
   ]
  },
  {
   "cell_type": "markdown",
   "id": "f934837a",
   "metadata": {},
   "source": [
    "Pero también si queremos ignorar una línea de código."
   ]
  },
  {
   "cell_type": "code",
   "execution_count": 8,
   "id": "48fe2642",
   "metadata": {},
   "outputs": [
    {
     "name": "stdout",
     "output_type": "stream",
     "text": [
      "10\n"
     ]
    }
   ],
   "source": [
    "y = 10    #ignoramos y = 10, obtendremos un error\n",
    "print(y)\n"
   ]
  },
  {
   "cell_type": "markdown",
   "id": "85c1c5cb",
   "metadata": {},
   "source": [
    "Ahora prueba borrando el # antes de y = 10 y debería funcionar normalmente."
   ]
  },
  {
   "cell_type": "markdown",
   "id": "964a1538",
   "metadata": {},
   "source": [
    "### 2.1. Variables y tipos de variable\n",
    "Definimos una variable como un contenedor, es decir, arriba llamamos a `x` y le asignamos un valor `1234`, entonces cada vez que usaremos a `x` tenemos el valor dado.\n",
    "\n",
    "Para asignar una variable, colocamos el nombre que le daremos (no puede tener espacios) y luego un igual al valor que queremos darle, por ejemplo `x = 10` \n",
    "\n",
    "En Python hay distintos tipos de variable, algunas almacenan diferentes cosas, primero nos enfocaremos en las siguientes.\n",
    "\n",
    " - **Enteros** (`int` de _integer_) almacenan números enteros.\n",
    " - **Decimales** (`float`) almacenan números con decimales.\n",
    " - **Texto** (`str` de _string_) almacena una variable de texto, debe ir en comillas (`t = \"Hola\"`).\n",
    " - **Booleano** (`bool`) es una variable que solamente puede ser verdadero (`True`) o falso (`False`). No usa comillas y se usa la mayúscula inicial en True o False.\n",
    " \n",
    "A continuación ejemplos uno a uno de las variables. Para saber qué tipo de variable tenemos usamos `type(variable)`."
   ]
  },
  {
   "cell_type": "code",
   "execution_count": 9,
   "id": "64f3b0a3",
   "metadata": {},
   "outputs": [
    {
     "data": {
      "text/plain": [
       "int"
      ]
     },
     "execution_count": 9,
     "metadata": {},
     "output_type": "execute_result"
    }
   ],
   "source": [
    "x = 10\n",
    "type(x)"
   ]
  },
  {
   "cell_type": "code",
   "execution_count": 10,
   "id": "add6e3ff",
   "metadata": {},
   "outputs": [
    {
     "data": {
      "text/plain": [
       "float"
      ]
     },
     "execution_count": 10,
     "metadata": {},
     "output_type": "execute_result"
    }
   ],
   "source": [
    "x = 4.5\n",
    "type(x)"
   ]
  },
  {
   "cell_type": "code",
   "execution_count": 11,
   "id": "b3f4b49c",
   "metadata": {},
   "outputs": [
    {
     "data": {
      "text/plain": [
       "str"
      ]
     },
     "execution_count": 11,
     "metadata": {},
     "output_type": "execute_result"
    }
   ],
   "source": [
    "x = \"Hola\"\n",
    "type(x)"
   ]
  },
  {
   "cell_type": "code",
   "execution_count": 12,
   "id": "0e0aa960",
   "metadata": {},
   "outputs": [
    {
     "data": {
      "text/plain": [
       "bool"
      ]
     },
     "execution_count": 12,
     "metadata": {},
     "output_type": "execute_result"
    }
   ],
   "source": [
    "x = False\n",
    "type(x)"
   ]
  },
  {
   "cell_type": "markdown",
   "id": "1cfae40a",
   "metadata": {},
   "source": [
    "## Funciones\n",
    "Alguien que maneja el lenguaje seguramente se asustará de que no puse cosas como tuplas, indices, etc. antes de usar funciones, pero es lo que hay, este notebook de guía rápida se actualizará a medida que necesitemos más herramientas, así que no es la versión final.\n",
    "\n",
    "Una función es como una función de matemática, _come_ argumentos o parámetros y nos devuelve o realiza algo con esos parámetros, por ejemplo la función de elevar al cuadrado $y = x^2$, le ponemos un número a $x$ y nos devuelve su número cuadrado (que es el valor que adopta $y$).\n",
    "\n",
    "Por ahora no es necesario que dominen cómo usar una función pero tiene esta estructura.\n",
    "\n",
    "```\n",
    "def nombre_funcion(parametros):\n",
    "\n",
    "    Aquí viene lo que debe hacer con esos parametros\n",
    "    \n",
    "    return devolver #lo que debe devolver\n",
    "```"
   ]
  },
  {
   "cell_type": "code",
   "execution_count": 20,
   "id": "a376c6a1",
   "metadata": {},
   "outputs": [],
   "source": [
    "#Hagamos una funciónq que multiplique x * y y nos devuelva z\n",
    "def multiplicacion(x,y):\n",
    "    z = x*y\n",
    "    return z"
   ]
  },
  {
   "cell_type": "markdown",
   "id": "4b787d79",
   "metadata": {},
   "source": [
    "Ahora queremos **llamar** a esta función, para eso usamos\n",
    "\n",
    "`cuadrado(parametro)`\n",
    "\n",
    "Se puede hacer de dos formas, literalmente decimos que queremos que x = 2."
   ]
  },
  {
   "cell_type": "code",
   "execution_count": 21,
   "id": "87d52934",
   "metadata": {},
   "outputs": [
    {
     "data": {
      "text/plain": [
       "6"
      ]
     },
     "execution_count": 21,
     "metadata": {},
     "output_type": "execute_result"
    }
   ],
   "source": [
    "multiplicacion(x = 2, y = 3)\n"
   ]
  },
  {
   "cell_type": "markdown",
   "id": "6bbf901d",
   "metadata": {},
   "source": [
    "Pero si usamos el orden de los parámetros de forma ordenada no es necesario declarar cual es x y cual es y, por ejemplo."
   ]
  },
  {
   "cell_type": "code",
   "execution_count": 23,
   "id": "5fa27bd9",
   "metadata": {},
   "outputs": [
    {
     "data": {
      "text/plain": [
       "20"
      ]
     },
     "execution_count": 23,
     "metadata": {},
     "output_type": "execute_result"
    }
   ],
   "source": [
    "multiplicacion(4,5) #aqui x adopta 4 y \"y\" adopta 5."
   ]
  },
  {
   "cell_type": "markdown",
   "id": "34533474",
   "metadata": {},
   "source": [
    "En la mayoría de nuestras actividades las funciones ya estarán dadas, solamente necesitamos saber qué parámetros necesitan y llamarlas, pero eres libre de crear una función por tu cuenta y ejecutarla acá abajo.\n",
    "\n",
    "Puedes jugar con este documento, si tienes dudas con tu código escríbeme.\n",
    "Al cerrar la ventana esto NO se guarda, entonces saca screenshots o descarga el documento usando los controles de la izquierda."
   ]
  },
  {
   "cell_type": "code",
   "execution_count": null,
   "id": "eb7abb41",
   "metadata": {},
   "outputs": [],
   "source": [
    "#Celdas para que juegues (opcional)"
   ]
  },
  {
   "cell_type": "code",
   "execution_count": null,
   "id": "c704f83f",
   "metadata": {},
   "outputs": [],
   "source": []
  },
  {
   "cell_type": "code",
   "execution_count": null,
   "id": "3fedaf5e",
   "metadata": {},
   "outputs": [],
   "source": []
  }
 ],
 "metadata": {
  "kernelspec": {
   "display_name": "Python 3 (ipykernel)",
   "language": "python",
   "name": "python3"
  },
  "language_info": {
   "codemirror_mode": {
    "name": "ipython",
    "version": 3
   },
   "file_extension": ".py",
   "mimetype": "text/x-python",
   "name": "python",
   "nbconvert_exporter": "python",
   "pygments_lexer": "ipython3",
   "version": "3.10.9"
  }
 },
 "nbformat": 4,
 "nbformat_minor": 5
}
